{
 "cells": [
  {
   "cell_type": "code",
   "execution_count": 9,
   "metadata": {},
   "outputs": [],
   "source": [
    "#Function to find confidence interval\n",
    "'''\n",
    "y_true = numpy array of ground truth labels.Elements should be 0 or 1 in case of classification\n",
    "y_pred = numpy array of predicted labels\n",
    "n = number of bootstrap samples(Default 1000)\n",
    "random_state_seed = Inorder to replicate the results this parameter should be fixed(default 24)\n",
    "classification_metric = Boolean. Should be set as True if you want to find confidence interval for a \n",
    "                        classification metric like precision,recall, AUC etc. (Default True)\n",
    "alpha = probability of type 1 error. (Default 0.05)\n",
    "\n",
    "'''\n",
    "\n",
    "'''\n",
    "empirical_distribution_gen : function to generate empirical distribution by using bootstrap technique\n",
    "\n",
    "'''\n",
    "\n",
    "import numpy as np\n",
    "\n",
    "def empirical_distribution_gen(y_true,y_pred,n=5000,random_state_seed = 24,classification_metric = False):\n",
    "    metric_values = [] # list to store metric values\n",
    "    rand_sampler = np.random.RandomState(random_state_seed) # Setting random state for easy replication\n",
    "    m = 0\n",
    "    while m < n:\n",
    "        if classification_metric:\n",
    "            if len(np.unique(y_true)) != 2: # to ensure that y_true contains binary labels\n",
    "                break\n",
    "            elif len(np.unique(y_true)) == 2:\n",
    "                idx = rand_sampler.randint(0, len(y_pred), len(y_pred)) # This will generate random sample with replacement of indices \n",
    "                y_true_selected = y_true[idx]\n",
    "                if len(np.unique(y_true_selected)) < 2: # This to ensure that sample drawn has positive as well as negative labels\n",
    "                    continue\n",
    "                else:\n",
    "                    metric_values.append(roc_auc_score(y_true[idx], y_pred[idx]))\n",
    "                    m += 1\n",
    "        elif not classification_metric:\n",
    "            idx = rand_sampler.randint(0, len(y_pred), len(y_pred))\n",
    "            metric_values.append(mean_absolute_error(y_true[idx], y_pred[idx]))\n",
    "            m += 1\n",
    "    \n",
    "    metric_values = np.array(metric_values)\n",
    "    metric_values.sort()\n",
    "    \n",
    "    return metric_values #This will give an empirical distribution of metric values\n",
    "\n",
    "\n",
    "'''\n",
    "conf_int : function to find confidence interval. This is the function you need to call\n",
    "\n",
    "'''\n",
    "\n",
    "def conf_int(y_true, y_pred, alpha = 0.05):\n",
    "    emp_dist = empirical_distribution_gen(y_true, y_pred,classification_metric = True)\n",
    "    lower_limit = np.quantile(emp_dist,alpha/2)\n",
    "    upper_limit = np.quantile(emp_dist,1-(alpha/2))\n",
    "    \n",
    "    return emp_dist, [np.around(lower_limit,2),np.around(upper_limit,2)]"
   ]
  },
  {
   "cell_type": "code",
   "execution_count": null,
   "metadata": {},
   "outputs": [],
   "source": []
  },
  {
   "cell_type": "markdown",
   "metadata": {},
   "source": [
    "# Usage example"
   ]
  },
  {
   "cell_type": "code",
   "execution_count": 10,
   "metadata": {},
   "outputs": [],
   "source": [
    "from sklearn.metrics import roc_auc_score, recall_score, f1_score, cohen_kappa_score\n",
    "\n",
    "y_pred = np.concatenate([[1]*27, [0]*1, [0]*99, [1]*13 ])\n",
    "y_true = np.concatenate([[1]*28, [0]*112])"
   ]
  },
  {
   "cell_type": "code",
   "execution_count": 11,
   "metadata": {},
   "outputs": [],
   "source": [
    "ed,cf = conf_int(y_true,y_pred,alpha=0.05) # 95% confidence interval of AUC"
   ]
  },
  {
   "cell_type": "code",
   "execution_count": 12,
   "metadata": {},
   "outputs": [
    {
     "data": {
      "text/plain": [
       "[0.87, 0.96]"
      ]
     },
     "execution_count": 12,
     "metadata": {},
     "output_type": "execute_result"
    }
   ],
   "source": [
    "cf"
   ]
  },
  {
   "cell_type": "code",
   "execution_count": 13,
   "metadata": {},
   "outputs": [
    {
     "data": {
      "text/plain": [
       "0.8325"
      ]
     },
     "execution_count": 13,
     "metadata": {},
     "output_type": "execute_result"
    }
   ],
   "source": [
    "roc_auc_score(y_pred, y_true)"
   ]
  },
  {
   "cell_type": "code",
   "execution_count": 9,
   "metadata": {},
   "outputs": [],
   "source": [
    "import matplotlib.pyplot as plt"
   ]
  },
  {
   "cell_type": "code",
   "execution_count": 11,
   "metadata": {},
   "outputs": [
    {
     "data": {
      "text/plain": [
       "(array([  5.,   0.,   0.,   4.,  10.,   4.,   5.,  14.,  18.,   6.,  24.,\n",
       "         42.,  44.,  70.,   1., 136., 146.,  57., 179., 151., 153., 484.,\n",
       "        174., 295., 398., 539., 256., 463., 336., 986.]),\n",
       " array([0.        , 0.03333333, 0.06666667, 0.1       , 0.13333333,\n",
       "        0.16666667, 0.2       , 0.23333333, 0.26666667, 0.3       ,\n",
       "        0.33333333, 0.36666667, 0.4       , 0.43333333, 0.46666667,\n",
       "        0.5       , 0.53333333, 0.56666667, 0.6       , 0.63333333,\n",
       "        0.66666667, 0.7       , 0.73333333, 0.76666667, 0.8       ,\n",
       "        0.83333333, 0.86666667, 0.9       , 0.93333333, 0.96666667,\n",
       "        1.        ]),\n",
       " <a list of 30 Patch objects>)"
      ]
     },
     "execution_count": 11,
     "metadata": {},
     "output_type": "execute_result"
    },
    {
     "data": {
      "image/png": "[encoded data removed]",
      "text/plain": [
       "<Figure size 432x288 with 1 Axes>"
      ]
     },
     "metadata": {},
     "output_type": "display_data"
    }
   ],
   "source": [
    "plt.hist(ed,bins=30)"
   ]
  },
  {
   "cell_type": "code",
   "execution_count": 14,
   "metadata": {},
   "outputs": [],
   "source": [
    "import pandas as pd\n",
    "\n",
    "df=pd.read_csv('/opt/bucketdata/Users/Rohit/Covid19/CT_new/csv/github_covid_7Apr2020_12h43m.csv')"
   ]
  },
  {
   "cell_type": "code",
   "execution_count": 15,
   "metadata": {},
   "outputs": [
    {
     "data": {
      "text/html": [
       "<div>\n",
       "<style scoped>\n",
       "    .dataframe tbody tr th:only-of-type {\n",
       "        vertical-align: middle;\n",
       "    }\n",
       "\n",
       "    .dataframe tbody tr th {\n",
       "        vertical-align: top;\n",
       "    }\n",
       "\n",
       "    .dataframe thead th {\n",
       "        text-align: right;\n",
       "    }\n",
       "</style>\n",
       "<table border=\"1\" class=\"dataframe\">\n",
       "  <thead>\n",
       "    <tr style=\"text-align: right;\">\n",
       "      <th></th>\n",
       "      <th>filename</th>\n",
       "      <th>file_size</th>\n",
       "      <th>file_attributes</th>\n",
       "      <th>region_count</th>\n",
       "      <th>region_id</th>\n",
       "      <th>region_shape_attributes</th>\n",
       "      <th>region_attributes</th>\n",
       "    </tr>\n",
       "  </thead>\n",
       "  <tbody>\n",
       "    <tr>\n",
       "      <th>0</th>\n",
       "      <td>2019-novel-Coronavirus-severe-adult-respirator...</td>\n",
       "      <td>224115</td>\n",
       "      <td>{}</td>\n",
       "      <td>1</td>\n",
       "      <td>0</td>\n",
       "      <td>{\"name\":\"polygon\",\"all_points_x\":[51,21,60,137...</td>\n",
       "      <td>{}</td>\n",
       "    </tr>\n",
       "    <tr>\n",
       "      <th>1</th>\n",
       "      <td>2019-novel-Coronavirus-severe-adult-respirator...</td>\n",
       "      <td>209383</td>\n",
       "      <td>{}</td>\n",
       "      <td>1</td>\n",
       "      <td>0</td>\n",
       "      <td>{\"name\":\"polygon\",\"all_points_x\":[75,34,54,101...</td>\n",
       "      <td>{}</td>\n",
       "    </tr>\n",
       "    <tr>\n",
       "      <th>2</th>\n",
       "      <td>2019-novel-Coronavirus-severe-adult-respirator...</td>\n",
       "      <td>202531</td>\n",
       "      <td>{}</td>\n",
       "      <td>1</td>\n",
       "      <td>0</td>\n",
       "      <td>{\"name\":\"polygon\",\"all_points_x\":[41,21,53,100...</td>\n",
       "      <td>{}</td>\n",
       "    </tr>\n",
       "    <tr>\n",
       "      <th>3</th>\n",
       "      <td>2020.01.24.919183-p27-132.png</td>\n",
       "      <td>333798</td>\n",
       "      <td>{}</td>\n",
       "      <td>2</td>\n",
       "      <td>0</td>\n",
       "      <td>{\"name\":\"polygon\",\"all_points_x\":[293,205,135,...</td>\n",
       "      <td>{}</td>\n",
       "    </tr>\n",
       "    <tr>\n",
       "      <th>4</th>\n",
       "      <td>2020.01.24.919183-p27-132.png</td>\n",
       "      <td>333798</td>\n",
       "      <td>{}</td>\n",
       "      <td>2</td>\n",
       "      <td>1</td>\n",
       "      <td>{\"name\":\"polygon\",\"all_points_x\":[477,449,467,...</td>\n",
       "      <td>{}</td>\n",
       "    </tr>\n",
       "  </tbody>\n",
       "</table>\n",
       "</div>"
      ],
      "text/plain": [
       "                                            filename  file_size  \\\n",
       "0  2019-novel-Coronavirus-severe-adult-respirator...     224115   \n",
       "1  2019-novel-Coronavirus-severe-adult-respirator...     209383   \n",
       "2  2019-novel-Coronavirus-severe-adult-respirator...     202531   \n",
       "3                      2020.01.24.919183-p27-132.png     333798   \n",
       "4                      2020.01.24.919183-p27-132.png     333798   \n",
       "\n",
       "  file_attributes  region_count  region_id  \\\n",
       "0              {}             1          0   \n",
       "1              {}             1          0   \n",
       "2              {}             1          0   \n",
       "3              {}             2          0   \n",
       "4              {}             2          1   \n",
       "\n",
       "                             region_shape_attributes region_attributes  \n",
       "0  {\"name\":\"polygon\",\"all_points_x\":[51,21,60,137...                {}  \n",
       "1  {\"name\":\"polygon\",\"all_points_x\":[75,34,54,101...                {}  \n",
       "2  {\"name\":\"polygon\",\"all_points_x\":[41,21,53,100...                {}  \n",
       "3  {\"name\":\"polygon\",\"all_points_x\":[293,205,135,...                {}  \n",
       "4  {\"name\":\"polygon\",\"all_points_x\":[477,449,467,...                {}  "
      ]
     },
     "execution_count": 15,
     "metadata": {},
     "output_type": "execute_result"
    }
   ],
   "source": [
    "df.head()"
   ]
  },
  {
   "cell_type": "code",
   "execution_count": 18,
   "metadata": {},
   "outputs": [],
   "source": [
    "filenames=[]\n",
    "for idx, row in df.iterrows():\n",
    "    if row['region_count'] > 0:\n",
    "        filenames.append(row['filename'])"
   ]
  },
  {
   "cell_type": "code",
   "execution_count": 19,
   "metadata": {},
   "outputs": [
    {
     "data": {
      "text/plain": [
       "271"
      ]
     },
     "execution_count": 19,
     "metadata": {},
     "output_type": "execute_result"
    }
   ],
   "source": [
    "len(set(filenames))"
   ]
  },
  {
   "cell_type": "code",
   "execution_count": 20,
   "metadata": {},
   "outputs": [
    {
     "data": {
      "text/plain": [
       "0.7765042979942693"
      ]
     },
     "execution_count": 20,
     "metadata": {},
     "output_type": "execute_result"
    }
   ],
   "source": [
    "271/349"
   ]
  },
  {
   "cell_type": "code",
   "execution_count": null,
   "metadata": {},
   "outputs": [],
   "source": []
  }
 ],
 "metadata": {
  "kernelspec": {
   "display_name": "Python 3",
   "language": "python",
   "name": "python3"
  },
  "language_info": {
   "codemirror_mode": {
    "name": "ipython",
    "version": 3
   },
   "file_extension": ".py",
   "mimetype": "text/x-python",
   "name": "python",
   "nbconvert_exporter": "python",
   "pygments_lexer": "ipython3",
   "version": "3.8.8"
  }
 },
 "nbformat": 4,
 "nbformat_minor": 2
}
